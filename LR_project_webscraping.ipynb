{
 "cells": [
  {
   "cell_type": "code",
   "execution_count": 1,
   "id": "5f2c755b",
   "metadata": {},
   "outputs": [],
   "source": [
    "from bs4 import BeautifulSoup\n",
    "import time, os\n",
    "import requests\n",
    "import pandas as pd"
   ]
  },
  {
   "cell_type": "code",
   "execution_count": 2,
   "id": "67617de4",
   "metadata": {},
   "outputs": [],
   "source": [
    "dictionary = {}"
   ]
  },
  {
   "cell_type": "code",
   "execution_count": 3,
   "id": "f12b9510",
   "metadata": {},
   "outputs": [],
   "source": [
    "def find_num(string):\n",
    "    num_list = [i for i in string if i.isnumeric()]\n",
    "    if len(num_list) > 1:\n",
    "        num_list = ''.join(num_list)\n",
    "        num_list = num_list.replace(',', '')\n",
    "    else:\n",
    "        num_list = ''.join(num_list)\n",
    "    return num_list"
   ]
  },
  {
   "cell_type": "code",
   "execution_count": 4,
   "id": "97ef932f",
   "metadata": {},
   "outputs": [],
   "source": [
    "def get_num_items(division):\n",
    "    num_items = 0\n",
    "    for string in division:\n",
    "        num_items+=1\n",
    "    return num_items"
   ]
  },
  {
   "cell_type": "code",
   "execution_count": 5,
   "id": "b9c1b82c",
   "metadata": {},
   "outputs": [],
   "source": [
    "def get_project_loc_and_cat(soup):\n",
    "    loc_and_cat = soup.find('div', class_= 'NS_projects__category_location ratio-16-9 flex items-center').text\n",
    "    loc_and_cat = loc_and_cat.strip('\\n').split('\\n')\n",
    "    loc_and_cat = [i for i in loc_and_cat if i]\n",
    "    return loc_and_cat"
   ]
  },
  {
   "cell_type": "code",
   "execution_count": 6,
   "id": "a986d71f",
   "metadata": {},
   "outputs": [],
   "source": [
    "def get_project_location(soup):\n",
    "    return get_project_loc_and_cat(soup)[-2]"
   ]
  },
  {
   "cell_type": "code",
   "execution_count": 7,
   "id": "e0d36bcc",
   "metadata": {},
   "outputs": [],
   "source": [
    "def get_project_category(soup):\n",
    "    return get_project_loc_and_cat(soup)[-1]"
   ]
  },
  {
   "cell_type": "code",
   "execution_count": 8,
   "id": "6b36bd32",
   "metadata": {},
   "outputs": [],
   "source": [
    "def get_project_target(soup):\n",
    "    target = soup.find('h3', class_='mb0').find('span', class_ = 'money').text\n",
    "    return target"
   ]
  },
  {
   "cell_type": "code",
   "execution_count": 9,
   "id": "84ea1573",
   "metadata": {},
   "outputs": [],
   "source": [
    "def get_project_goal(soup):\n",
    "    goal = soup.find('div', class_='type-12 medium navy-500').find('span', class_='money').text\n",
    "    return goal"
   ]
  },
  {
   "cell_type": "code",
   "execution_count": 10,
   "id": "ba1c9580",
   "metadata": {},
   "outputs": [],
   "source": [
    "def get_project_funding_period(soup):\n",
    "    funding_period = soup.find('div', class_='NS_campaigns__funding_period').find('p', class_='f5').text\n",
    "    funding_period = funding_period.split('(')[-1]\n",
    "    return find_num(funding_period)"
   ]
  },
  {
   "cell_type": "code",
   "execution_count": 11,
   "id": "936eac0b",
   "metadata": {},
   "outputs": [],
   "source": [
    "def get_project_backers(soup):\n",
    "    backers = soup.find('div', class_='mb0').find('h3', class_='mb0').text\n",
    "    return backers.strip('\\n')"
   ]
  },
  {
   "cell_type": "code",
   "execution_count": 12,
   "id": "6d72b488",
   "metadata": {},
   "outputs": [],
   "source": [
    "def get_project_num_rewards(soup):\n",
    "    num_reward = get_num_items(soup.find('div', class_='NS_projects__rewards_list js-project-rewards').find_all('li', class_='hover-group pledge--inactive pledge-selectable-sidebar'))\n",
    "    return num_reward"
   ]
  },
  {
   "cell_type": "code",
   "execution_count": 13,
   "id": "113fb59e",
   "metadata": {},
   "outputs": [],
   "source": [
    "def get_pledge_backers(soup):\n",
    "    pledge_backers_stats = soup.find_all('div', class_='pledge__backer-stats')\n",
    "\n",
    "    pledge_backers = []\n",
    "\n",
    "    for element in pledge_backers_stats:\n",
    "        pledge_backers.append(element.text)\n",
    "\n",
    "    return pledge_backers"
   ]
  },
  {
   "cell_type": "code",
   "execution_count": 14,
   "id": "589146e4",
   "metadata": {},
   "outputs": [],
   "source": [
    "def get_project_lowest_reward_backers(soup):\n",
    "    pledge_backers = get_pledge_backers(soup)\n",
    "    return find_num(pledge_backers[0])"
   ]
  },
  {
   "cell_type": "code",
   "execution_count": 15,
   "id": "bfbbd336",
   "metadata": {},
   "outputs": [],
   "source": [
    "def get_project_highest_backers(soup):\n",
    "    pledge_backers = get_pledge_backers(soup)\n",
    "    return find_num(pledge_backers[-1])"
   ]
  },
  {
   "cell_type": "code",
   "execution_count": 16,
   "id": "23db3771",
   "metadata": {},
   "outputs": [],
   "source": [
    "def get_project_pwl_tag_bool(soup):\n",
    "    if get_project_loc_and_cat(soup)[0] == 'Project We Love':\n",
    "        pwl_tag = 1\n",
    "    else:\n",
    "        pwl_tag = 0\n",
    "    return pwl_tag"
   ]
  },
  {
   "cell_type": "code",
   "execution_count": 17,
   "id": "8bae243e",
   "metadata": {},
   "outputs": [],
   "source": [
    "def get_project_video_bool(soup):\n",
    "    if soup.find('video') != None:\n",
    "        video_tag = 1\n",
    "    else:\n",
    "        video_tag = 0\n",
    "    return video_tag"
   ]
  },
  {
   "cell_type": "code",
   "execution_count": 18,
   "id": "c8afb4cf",
   "metadata": {},
   "outputs": [],
   "source": [
    "def get_project_title(soup):\n",
    "    profile_title = soup.find('div', class_='NS_project_profile__title').text\n",
    "    return profile_title.strip('\\n')"
   ]
  },
  {
   "cell_type": "code",
   "execution_count": 19,
   "id": "8dddd23c",
   "metadata": {},
   "outputs": [],
   "source": [
    "def get_project_data(soup):\n",
    "    profile_title = get_project_title(soup)\n",
    "    \n",
    "    target = get_project_target(soup)\n",
    "    \n",
    "    category = get_project_category(soup)\n",
    "    \n",
    "    location = get_project_location(soup)\n",
    "    \n",
    "    pwl_tag = get_project_pwl_tag_bool(soup)\n",
    "    \n",
    "    backers = get_project_backers(soup)\n",
    "    \n",
    "    goal = get_project_goal(soup)\n",
    "    \n",
    "    rewards = get_project_num_rewards(soup)\n",
    "    \n",
    "    lowest_pledge_backers = get_project_lowest_reward_backers(soup)\n",
    "    \n",
    "    highest_pledge_backers = get_project_highest_backers(soup)\n",
    "    \n",
    "    funding_period = get_project_funding_period(soup)\n",
    "    \n",
    "    video_tag = get_project_video_bool(soup)\n",
    "    \n",
    "    project_dict = {profile_title: [target, \n",
    "                                    category, \n",
    "                                    location, \n",
    "                                    pwl_tag, \n",
    "                                    backers,\n",
    "                                    goal,\n",
    "                                    rewards,\n",
    "                                    lowest_pledge_backers,\n",
    "                                    highest_pledge_backers,\n",
    "                                    funding_period,\n",
    "                                    video_tag]}\n",
    "    return project_dict\n"
   ]
  },
  {
   "cell_type": "code",
   "execution_count": 20,
   "id": "b91f704d",
   "metadata": {},
   "outputs": [],
   "source": [
    "US_url_df = pd.read_csv('/Users/evelynjohnson/Desktop/METIS/Linear_Regression/Project/US_url_csv.csv')"
   ]
  },
  {
   "cell_type": "code",
   "execution_count": 21,
   "id": "9abe86d0",
   "metadata": {},
   "outputs": [
    {
     "data": {
      "text/html": [
       "<div>\n",
       "<style scoped>\n",
       "    .dataframe tbody tr th:only-of-type {\n",
       "        vertical-align: middle;\n",
       "    }\n",
       "\n",
       "    .dataframe tbody tr th {\n",
       "        vertical-align: top;\n",
       "    }\n",
       "\n",
       "    .dataframe thead th {\n",
       "        text-align: right;\n",
       "    }\n",
       "</style>\n",
       "<table border=\"1\" class=\"dataframe\">\n",
       "  <thead>\n",
       "    <tr style=\"text-align: right;\">\n",
       "      <th></th>\n",
       "      <th>Unnamed: 0</th>\n",
       "      <th>0</th>\n",
       "    </tr>\n",
       "  </thead>\n",
       "  <tbody>\n",
       "    <tr>\n",
       "      <th>0</th>\n",
       "      <td>0</td>\n",
       "      <td>https://www.kickstarter.com/projects/blackbria...</td>\n",
       "    </tr>\n",
       "    <tr>\n",
       "      <th>1</th>\n",
       "      <td>1</td>\n",
       "      <td>https://www.kickstarter.com/projects/beccastor...</td>\n",
       "    </tr>\n",
       "    <tr>\n",
       "      <th>2</th>\n",
       "      <td>2</td>\n",
       "      <td>https://www.kickstarter.com/projects/toxiwatch...</td>\n",
       "    </tr>\n",
       "    <tr>\n",
       "      <th>3</th>\n",
       "      <td>3</td>\n",
       "      <td>https://www.kickstarter.com/projects/rugosekoh...</td>\n",
       "    </tr>\n",
       "    <tr>\n",
       "      <th>4</th>\n",
       "      <td>4</td>\n",
       "      <td>https://www.kickstarter.com/projects/animogame...</td>\n",
       "    </tr>\n",
       "  </tbody>\n",
       "</table>\n",
       "</div>"
      ],
      "text/plain": [
       "   Unnamed: 0                                                  0\n",
       "0           0  https://www.kickstarter.com/projects/blackbria...\n",
       "1           1  https://www.kickstarter.com/projects/beccastor...\n",
       "2           2  https://www.kickstarter.com/projects/toxiwatch...\n",
       "3           3  https://www.kickstarter.com/projects/rugosekoh...\n",
       "4           4  https://www.kickstarter.com/projects/animogame..."
      ]
     },
     "execution_count": 21,
     "metadata": {},
     "output_type": "execute_result"
    }
   ],
   "source": [
    "US_url_df.head()"
   ]
  },
  {
   "cell_type": "code",
   "execution_count": 22,
   "id": "5146d6b6",
   "metadata": {},
   "outputs": [],
   "source": [
    "column_names = {'Unnamed: 0': 'index', '0': 'url'}\n",
    "US_url_df.rename(columns=column_names, inplace=True)"
   ]
  },
  {
   "cell_type": "code",
   "execution_count": 23,
   "id": "7bea453f",
   "metadata": {},
   "outputs": [],
   "source": [
    "US_url_df.drop(['index'], axis=1, inplace=True)"
   ]
  },
  {
   "cell_type": "code",
   "execution_count": 24,
   "id": "4461ddc0",
   "metadata": {},
   "outputs": [
    {
     "data": {
      "text/html": [
       "<div>\n",
       "<style scoped>\n",
       "    .dataframe tbody tr th:only-of-type {\n",
       "        vertical-align: middle;\n",
       "    }\n",
       "\n",
       "    .dataframe tbody tr th {\n",
       "        vertical-align: top;\n",
       "    }\n",
       "\n",
       "    .dataframe thead th {\n",
       "        text-align: right;\n",
       "    }\n",
       "</style>\n",
       "<table border=\"1\" class=\"dataframe\">\n",
       "  <thead>\n",
       "    <tr style=\"text-align: right;\">\n",
       "      <th></th>\n",
       "      <th>url</th>\n",
       "    </tr>\n",
       "  </thead>\n",
       "  <tbody>\n",
       "    <tr>\n",
       "      <th>0</th>\n",
       "      <td>https://www.kickstarter.com/projects/blackbria...</td>\n",
       "    </tr>\n",
       "    <tr>\n",
       "      <th>1</th>\n",
       "      <td>https://www.kickstarter.com/projects/beccastor...</td>\n",
       "    </tr>\n",
       "    <tr>\n",
       "      <th>2</th>\n",
       "      <td>https://www.kickstarter.com/projects/toxiwatch...</td>\n",
       "    </tr>\n",
       "    <tr>\n",
       "      <th>3</th>\n",
       "      <td>https://www.kickstarter.com/projects/rugosekoh...</td>\n",
       "    </tr>\n",
       "    <tr>\n",
       "      <th>4</th>\n",
       "      <td>https://www.kickstarter.com/projects/animogame...</td>\n",
       "    </tr>\n",
       "  </tbody>\n",
       "</table>\n",
       "</div>"
      ],
      "text/plain": [
       "                                                 url\n",
       "0  https://www.kickstarter.com/projects/blackbria...\n",
       "1  https://www.kickstarter.com/projects/beccastor...\n",
       "2  https://www.kickstarter.com/projects/toxiwatch...\n",
       "3  https://www.kickstarter.com/projects/rugosekoh...\n",
       "4  https://www.kickstarter.com/projects/animogame..."
      ]
     },
     "execution_count": 24,
     "metadata": {},
     "output_type": "execute_result"
    }
   ],
   "source": [
    "US_url_df.head()"
   ]
  },
  {
   "cell_type": "code",
   "execution_count": 25,
   "id": "0e0a6347",
   "metadata": {},
   "outputs": [],
   "source": [
    "for index, row in US_url_df.iterrows():\n",
    "    response = requests.get(row['url'])\n",
    "    page = response.text\n",
    "    soup = BeautifulSoup(page, 'lxml')\n",
    "    dictionary.update(get_project_data(soup))"
   ]
  },
  {
   "cell_type": "code",
   "execution_count": 26,
   "id": "75e14b08",
   "metadata": {},
   "outputs": [
    {
     "name": "stdout",
     "output_type": "stream",
     "text": [
      "['$30,638', 'Tabletop Games', 'Rochester, MI', 0, '218', '$15,000', 7, '3', '12', '20', 1]\n"
     ]
    }
   ],
   "source": [
    "print(dictionary['Animo: Red Letter Day'])"
   ]
  },
  {
   "cell_type": "code",
   "execution_count": 27,
   "id": "1b414917",
   "metadata": {},
   "outputs": [],
   "source": [
    "kickstarter_data = pd.DataFrame.from_dict(dictionary, orient='index',\n",
    "                       columns=['Funding',\n",
    "                                'Category',\n",
    "                                'Location',\n",
    "                                'Project We Love Tag',\n",
    "                                'Number of Backers',\n",
    "                                'Monetary Goal',\n",
    "                                'Number of Pledge-Reward Options',\n",
    "                                'Number of Backers for Lowest Pledge',\n",
    "                                'Number of Backers for Highest Pledge',\n",
    "                                'Length of Funding Period',\n",
    "                                'Video Present'])"
   ]
  },
  {
   "cell_type": "code",
   "execution_count": 28,
   "id": "d6a84ec0",
   "metadata": {},
   "outputs": [],
   "source": [
    "kickstarter_csv = kickstarter_data.to_csv('kickstarter_data.csv')\n"
   ]
  },
  {
   "cell_type": "code",
   "execution_count": 29,
   "id": "e6a8aa58",
   "metadata": {},
   "outputs": [
    {
     "data": {
      "text/plain": [
       "(1080, 11)"
      ]
     },
     "execution_count": 29,
     "metadata": {},
     "output_type": "execute_result"
    }
   ],
   "source": [
    "kickstarter_data.shape"
   ]
  }
 ],
 "metadata": {
  "kernelspec": {
   "display_name": "Python 3",
   "language": "python",
   "name": "python3"
  },
  "language_info": {
   "codemirror_mode": {
    "name": "ipython",
    "version": 3
   },
   "file_extension": ".py",
   "mimetype": "text/x-python",
   "name": "python",
   "nbconvert_exporter": "python",
   "pygments_lexer": "ipython3",
   "version": "3.8.8"
  }
 },
 "nbformat": 4,
 "nbformat_minor": 5
}
